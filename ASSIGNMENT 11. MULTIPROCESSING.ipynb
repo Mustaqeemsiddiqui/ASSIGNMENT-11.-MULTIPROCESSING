{
 "cells": [
  {
   "cell_type": "markdown",
   "id": "36b4e982-b8be-4b1e-a0c3-3b982d3683cb",
   "metadata": {},
   "source": [
    "Q1) What is multiprocessing in python? Why is it useful?"
   ]
  },
  {
   "cell_type": "markdown",
   "id": "42ee893b-1708-4e2c-86ea-013595c7dbf3",
   "metadata": {},
   "source": [
    "Ans:---\n",
    "1)In Python, multiprocessing is a module that allows the execution of multiple processes, each with its own interpreter, memory space, and system resources. It provides an interface to create and manage processes, allowing for parallel and concurrent execution of tasks."
   ]
  },
  {
   "cell_type": "markdown",
   "id": "039b517f-7b3c-41de-9df0-17b81983225a",
   "metadata": {},
   "source": [
    "2)Usefulness of multiprocessing in Python:\n",
    "Multiprocessing in Python is useful for achieving parallelism, improving performance, utilizing system resources efficiently, and building scalable and robust applications. It allows for concurrent execution of tasks in separate processes, taking advantage of multi-core CPUs and distributed computing environments. By running tasks in parallel, multiprocessing can significantly reduce processing time, especially for CPU-bound tasks. It provides a simple programming model and helps in better resource utilization, stability, and scalability of applications."
   ]
  },
  {
   "cell_type": "markdown",
   "id": "f21f0b1c-5703-4376-bdcb-49de48d11941",
   "metadata": {},
   "source": [
    "Q2) What are the differences between multiprocessing and multithreading?"
   ]
  },
  {
   "cell_type": "markdown",
   "id": "b9c1eeb1-0f36-4242-a20e-a24f6ec45762",
   "metadata": {},
   "source": [
    "Ans:---\n",
    "The differences between multiprocessing and multithreading are:--\n",
    "1)a)Multiprocessing involves running multiple processes simultaneously, each with its own memory space. It provides true parallelism and is suitable for CPU-bound tasks. Communication between processes requires explicit mechanisms like pipes or queues.\n",
    "1)b)Multithreading involves running multiple threads within a single process, sharing the same memory space. Threads are lighter-weight and useful for concurrent I/O-bound tasks. Communication between threads is simpler since they can directly access shared data.\n",
    "2)Multiprocessing provides better fault isolation, while a crash in one thread can affect the entire process in multithreading.\n",
    "3)Multiprocessing can be more complex due to managing processes and explicit synchronization, whereas multithreading is generally considered simpler but requires careful synchronization to avoid race conditions."
   ]
  },
  {
   "cell_type": "markdown",
   "id": "ead26714-bf41-4efa-8491-9a081822a7dc",
   "metadata": {},
   "source": [
    "Q3) Write a python code to create a process using the multiprocessing module."
   ]
  },
  {
   "cell_type": "code",
   "execution_count": 2,
   "id": "098776c9-68e1-4f03-922b-43d4c56a6b64",
   "metadata": {},
   "outputs": [
    {
     "name": "stdout",
     "output_type": "stream",
     "text": [
      "this is a parent process\n",
      "this is a child process\n"
     ]
    }
   ],
   "source": [
    "import multiprocessing\n",
    "def process():\n",
    "    print(\"this is a child process\")\n",
    "if __name__==\"__main__\":\n",
    "    m=multiprocessing.Process(target=process)\n",
    "    print(\"this is a parent process\")\n",
    "    m.start()\n",
    "    m.join()"
   ]
  },
  {
   "cell_type": "markdown",
   "id": "1ad71c85-37bb-4f10-9d0f-6871800d3480",
   "metadata": {},
   "source": [
    "Q4) What is a multiprocessing pool in python? Why is it used?"
   ]
  },
  {
   "cell_type": "markdown",
   "id": "14ae6f34-aac1-4710-9908-c933934c77ea",
   "metadata": {},
   "source": [
    "Ans:---\n",
    "1)a)In Python, a multiprocessing pool is a mechanism provided by the multiprocessing module to manage and distribute a collection of worker processes for parallel processing. b)It provides a convenient way to parallelize the execution of a function across multiple input values by automatically assigning the tasks to different processes in the pool.\n"
   ]
  },
  {
   "cell_type": "markdown",
   "id": "e45422ff-19e0-45c8-b4e5-7f74f889ad8d",
   "metadata": {},
   "source": [
    "2)a)A multiprocessing pool in Python is used to execute tasks in parallel across multiple processes, resulting in improved performance for CPU-bound tasks.b) It simplifies parallel processing by automatically managing the creation, coordination, and termination of worker processes. c)It allows you to easily distribute tasks among available processes and leverage multiple CPU cores or processors. d)The pool abstracts away the complexities of process management, making it easier to implement parallelism in your code and optimize resource usage."
   ]
  },
  {
   "cell_type": "code",
   "execution_count": 7,
   "id": "40005085-ca2b-4b72-ab25-b31cf788e163",
   "metadata": {},
   "outputs": [
    {
     "name": "stdout",
     "output_type": "stream",
     "text": [
      "[1, 8, 27, 64, 125, 216, 343, 512, 729, 1000, 1331, 1728, 2197, 2744, 3375]\n"
     ]
    }
   ],
   "source": [
    "def cube(n):\n",
    "    return n**3\n",
    "if __name__==\"__main__\":\n",
    "    with multiprocessing.Pool(processes=2) as pool:\n",
    "        cubes=pool.map(cube,[1,2,3,4,5,6,7,8,9,10,11,12,13,14,15])\n",
    "        print(cubes)"
   ]
  },
  {
   "cell_type": "markdown",
   "id": "1e3c69f3-9189-4ce1-9d82-a27e2b1d39a4",
   "metadata": {},
   "source": [
    "Q5) How can we create a pool of worker processes in python using the multiprocessing module?"
   ]
  },
  {
   "cell_type": "code",
   "execution_count": 25,
   "id": "2eb49baa-3b4d-408b-bc98-12a88aa3cf67",
   "metadata": {},
   "outputs": [
    {
     "name": "stdout",
     "output_type": "stream",
     "text": [
      "[0, 1, 4, 9, 16, 25, 36, 49, 64, 81, 100, 121]\n"
     ]
    }
   ],
   "source": [
    "import multiprocessing\n",
    "def multiplication_square(s):\n",
    "    return s*s\n",
    "if __name__==\"__main__\":\n",
    "    pool=multiprocessing.Pool(processes=6)\n",
    "    answer=pool.map(multiplication_square,range(12))\n",
    "    print(answer)\n",
    "    pool.close()\n",
    "    pool.join()"
   ]
  },
  {
   "cell_type": "markdown",
   "id": "947bf364-b62b-459b-9f60-89e6e86d5517",
   "metadata": {},
   "source": [
    "Ans:---\n",
    "This is how we can create a pool of worker processes in python using the multiprocessing module\n",
    "here in processes we have taken 6.\n",
    "that is (processes=6)"
   ]
  },
  {
   "cell_type": "markdown",
   "id": "07091356-2e4d-4fa9-a897-36e60a19bc09",
   "metadata": {},
   "source": [
    "Q6) Write a python program to create 4 processes, each process should print a different number using the multiprocessing module in python."
   ]
  },
  {
   "cell_type": "code",
   "execution_count": 32,
   "id": "7c1bfb0f-dca4-4701-9ccf-caa830b40dfa",
   "metadata": {},
   "outputs": [
    {
     "name": "stdout",
     "output_type": "stream",
     "text": [
      "processing1:1\n",
      "processing2:2\n",
      "processing3:3\n",
      "processing4:4\n",
      "EACH PROCESS IS PRINTED A DIFFERENT NUMBER\n",
      "EACH PROCESS IS PRINTED A DIFFERENT NUMBER\n",
      "EACH PROCESS IS PRINTED A DIFFERENT NUMBER\n",
      "EACH PROCESS IS PRINTED A DIFFERENT NUMBER\n"
     ]
    }
   ],
   "source": [
    "import multiprocessing\n",
    "def number_test(number):\n",
    "    print(f\"processing{number}:{number}\")\n",
    "if __name__==\"__main__\":\n",
    "    num=[1,2,3,4]\n",
    "    processes=[]\n",
    "    for number in num:\n",
    "        pro=multiprocessing.Process(target=number_test, args=(number,))\n",
    "        processes.append(pro)\n",
    "    for pro in processes:\n",
    "        pro.start()\n",
    "    for pro in processes:\n",
    "        pro.join()\n",
    "        print(\"EACH PROCESS IS PRINTED A DIFFERENT NUMBER\")"
   ]
  },
  {
   "cell_type": "code",
   "execution_count": null,
   "id": "3fb548d5-9437-4c9b-86e2-218ff737004f",
   "metadata": {},
   "outputs": [],
   "source": []
  }
 ],
 "metadata": {
  "kernelspec": {
   "display_name": "Python 3 (ipykernel)",
   "language": "python",
   "name": "python3"
  },
  "language_info": {
   "codemirror_mode": {
    "name": "ipython",
    "version": 3
   },
   "file_extension": ".py",
   "mimetype": "text/x-python",
   "name": "python",
   "nbconvert_exporter": "python",
   "pygments_lexer": "ipython3",
   "version": "3.10.8"
  }
 },
 "nbformat": 4,
 "nbformat_minor": 5
}
